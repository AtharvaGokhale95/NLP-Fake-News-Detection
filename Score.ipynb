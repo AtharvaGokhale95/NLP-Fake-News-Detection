{
 "cells": [
  {
   "cell_type": "code",
   "execution_count": 1,
   "metadata": {},
   "outputs": [],
   "source": [
    "from score import report_score, score_submission"
   ]
  },
  {
   "cell_type": "code",
   "execution_count": 2,
   "metadata": {},
   "outputs": [],
   "source": [
    "import numpy as np\n",
    "import pandas as pd"
   ]
  },
  {
   "cell_type": "code",
   "execution_count": 4,
   "metadata": {},
   "outputs": [],
   "source": [
    "df_actual = pd.read_csv(\"../full_test.csv\")"
   ]
  },
  {
   "cell_type": "code",
   "execution_count": 5,
   "metadata": {},
   "outputs": [
    {
     "data": {
      "text/html": [
       "<div>\n",
       "<style scoped>\n",
       "    .dataframe tbody tr th:only-of-type {\n",
       "        vertical-align: middle;\n",
       "    }\n",
       "\n",
       "    .dataframe tbody tr th {\n",
       "        vertical-align: top;\n",
       "    }\n",
       "\n",
       "    .dataframe thead th {\n",
       "        text-align: right;\n",
       "    }\n",
       "</style>\n",
       "<table border=\"1\" class=\"dataframe\">\n",
       "  <thead>\n",
       "    <tr style=\"text-align: right;\">\n",
       "      <th></th>\n",
       "      <th>Headline</th>\n",
       "      <th>Body ID</th>\n",
       "      <th>Stance</th>\n",
       "      <th>articleBody</th>\n",
       "    </tr>\n",
       "  </thead>\n",
       "  <tbody>\n",
       "    <tr>\n",
       "      <th>0</th>\n",
       "      <td>Ferguson riots: Pregnant woman loses eye after...</td>\n",
       "      <td>2008</td>\n",
       "      <td>unrelated</td>\n",
       "      <td>A RESPECTED senior French police officer inves...</td>\n",
       "    </tr>\n",
       "    <tr>\n",
       "      <th>1</th>\n",
       "      <td>Crazy Conservatives Are Sure a Gitmo Detainee ...</td>\n",
       "      <td>1550</td>\n",
       "      <td>unrelated</td>\n",
       "      <td>Dave Morin's social networking company Path is...</td>\n",
       "    </tr>\n",
       "    <tr>\n",
       "      <th>2</th>\n",
       "      <td>A Russian Guy Says His Justin Bieber Ringtone ...</td>\n",
       "      <td>2</td>\n",
       "      <td>unrelated</td>\n",
       "      <td>A bereaved Afghan mother took revenge on the T...</td>\n",
       "    </tr>\n",
       "    <tr>\n",
       "      <th>3</th>\n",
       "      <td>Zombie Cat: Buried Kitty Believed Dead, Meows ...</td>\n",
       "      <td>1793</td>\n",
       "      <td>unrelated</td>\n",
       "      <td>Hewlett-Packard is officially splitting in two...</td>\n",
       "    </tr>\n",
       "    <tr>\n",
       "      <th>4</th>\n",
       "      <td>Argentina's President Adopts Boy to End Werewo...</td>\n",
       "      <td>37</td>\n",
       "      <td>unrelated</td>\n",
       "      <td>An airline passenger headed to Dallas was remo...</td>\n",
       "    </tr>\n",
       "    <tr>\n",
       "      <th>...</th>\n",
       "      <td>...</td>\n",
       "      <td>...</td>\n",
       "      <td>...</td>\n",
       "      <td>...</td>\n",
       "    </tr>\n",
       "    <tr>\n",
       "      <th>25408</th>\n",
       "      <td>The success of the Affordable Care Act is a hu...</td>\n",
       "      <td>2582</td>\n",
       "      <td>agree</td>\n",
       "      <td>Congressional Republicans, evidently hoping th...</td>\n",
       "    </tr>\n",
       "    <tr>\n",
       "      <th>25409</th>\n",
       "      <td>The success of the Affordable Care Act is a hu...</td>\n",
       "      <td>2583</td>\n",
       "      <td>discuss</td>\n",
       "      <td>Did Obamacare work?\\n\\nIt’s worth reflecting u...</td>\n",
       "    </tr>\n",
       "    <tr>\n",
       "      <th>25410</th>\n",
       "      <td>The success of the Affordable Care Act is a hu...</td>\n",
       "      <td>2584</td>\n",
       "      <td>disagree</td>\n",
       "      <td>Millions may lose coverage next year if Congre...</td>\n",
       "    </tr>\n",
       "    <tr>\n",
       "      <th>25411</th>\n",
       "      <td>The success of the Affordable Care Act is a hu...</td>\n",
       "      <td>2585</td>\n",
       "      <td>disagree</td>\n",
       "      <td>Come November, the grim trudge across the incr...</td>\n",
       "    </tr>\n",
       "    <tr>\n",
       "      <th>25412</th>\n",
       "      <td>The success of the Affordable Care Act is a hu...</td>\n",
       "      <td>2586</td>\n",
       "      <td>agree</td>\n",
       "      <td>Remember how much Republicans wanted to repeal...</td>\n",
       "    </tr>\n",
       "  </tbody>\n",
       "</table>\n",
       "<p>25413 rows × 4 columns</p>\n",
       "</div>"
      ],
      "text/plain": [
       "                                                Headline  Body ID     Stance  \\\n",
       "0      Ferguson riots: Pregnant woman loses eye after...     2008  unrelated   \n",
       "1      Crazy Conservatives Are Sure a Gitmo Detainee ...     1550  unrelated   \n",
       "2      A Russian Guy Says His Justin Bieber Ringtone ...        2  unrelated   \n",
       "3      Zombie Cat: Buried Kitty Believed Dead, Meows ...     1793  unrelated   \n",
       "4      Argentina's President Adopts Boy to End Werewo...       37  unrelated   \n",
       "...                                                  ...      ...        ...   \n",
       "25408  The success of the Affordable Care Act is a hu...     2582      agree   \n",
       "25409  The success of the Affordable Care Act is a hu...     2583    discuss   \n",
       "25410  The success of the Affordable Care Act is a hu...     2584   disagree   \n",
       "25411  The success of the Affordable Care Act is a hu...     2585   disagree   \n",
       "25412  The success of the Affordable Care Act is a hu...     2586      agree   \n",
       "\n",
       "                                             articleBody  \n",
       "0      A RESPECTED senior French police officer inves...  \n",
       "1      Dave Morin's social networking company Path is...  \n",
       "2      A bereaved Afghan mother took revenge on the T...  \n",
       "3      Hewlett-Packard is officially splitting in two...  \n",
       "4      An airline passenger headed to Dallas was remo...  \n",
       "...                                                  ...  \n",
       "25408  Congressional Republicans, evidently hoping th...  \n",
       "25409  Did Obamacare work?\\n\\nIt’s worth reflecting u...  \n",
       "25410  Millions may lose coverage next year if Congre...  \n",
       "25411  Come November, the grim trudge across the incr...  \n",
       "25412  Remember how much Republicans wanted to repeal...  \n",
       "\n",
       "[25413 rows x 4 columns]"
      ]
     },
     "execution_count": 5,
     "metadata": {},
     "output_type": "execute_result"
    }
   ],
   "source": [
    "df_actual"
   ]
  },
  {
   "cell_type": "code",
   "execution_count": 6,
   "metadata": {},
   "outputs": [
    {
     "data": {
      "text/plain": [
       "array(['unrelated', 'unrelated', 'unrelated', ..., 'disagree', 'disagree',\n",
       "       'agree'], dtype=object)"
      ]
     },
     "execution_count": 6,
     "metadata": {},
     "output_type": "execute_result"
    }
   ],
   "source": [
    "actual = df_actual['Stance'].values\n",
    "actual"
   ]
  },
  {
   "cell_type": "code",
   "execution_count": 10,
   "metadata": {},
   "outputs": [],
   "source": [
    "def calcF1(file):\n",
    "    df_pred = pd.read_csv(file)\n",
    "    pred = df_pred['Stance'].values\n",
    "    print(\"F1 Score for \", file[:-4], \":\", sep='')\n",
    "    report_score(actual, pred)"
   ]
  },
  {
   "cell_type": "code",
   "execution_count": 11,
   "metadata": {},
   "outputs": [
    {
     "name": "stdout",
     "output_type": "stream",
     "text": [
      "F1 Score for Base:\n",
      "-------------------------------------------------------------\n",
      "|           |   agree   | disagree  |  discuss  | unrelated |\n",
      "-------------------------------------------------------------\n",
      "|   agree   |    167    |    11     |   1439    |    286    |\n",
      "-------------------------------------------------------------\n",
      "| disagree  |    36     |     7     |    416    |    238    |\n",
      "-------------------------------------------------------------\n",
      "|  discuss  |    228    |    14     |   3546    |    676    |\n",
      "-------------------------------------------------------------\n",
      "| unrelated |     9     |     5     |    364    |   17971   |\n",
      "-------------------------------------------------------------\n",
      "Score: 8748.75 out of 11651.25\t(75.0885098165433%)\n"
     ]
    }
   ],
   "source": [
    "calcF1(\"Base.csv\")"
   ]
  },
  {
   "cell_type": "code",
   "execution_count": 12,
   "metadata": {},
   "outputs": [
    {
     "name": "stdout",
     "output_type": "stream",
     "text": [
      "F1 Score for BERT:\n",
      "-------------------------------------------------------------\n",
      "|           |   agree   | disagree  |  discuss  | unrelated |\n",
      "-------------------------------------------------------------\n",
      "|   agree   |    686    |     1     |    457    |    759    |\n",
      "-------------------------------------------------------------\n",
      "| disagree  |    160    |    27     |    172    |    338    |\n",
      "-------------------------------------------------------------\n",
      "|  discuss  |    233    |    14     |   2618    |   1599    |\n",
      "-------------------------------------------------------------\n",
      "| unrelated |    196    |     3     |    866    |   17284   |\n",
      "-------------------------------------------------------------\n",
      "Score: 7911.25 out of 11651.25\t(67.90043986696706%)\n"
     ]
    }
   ],
   "source": [
    "calcF1(\"BERT.csv\")"
   ]
  },
  {
   "cell_type": "code",
   "execution_count": 14,
   "metadata": {},
   "outputs": [
    {
     "name": "stdout",
     "output_type": "stream",
     "text": [
      "F1 Score for BiLSTMBase:\n",
      "-------------------------------------------------------------\n",
      "|           |   agree   | disagree  |  discuss  | unrelated |\n",
      "-------------------------------------------------------------\n",
      "|   agree   |    744    |    39     |    440    |    680    |\n",
      "-------------------------------------------------------------\n",
      "| disagree  |    212    |    20     |    176    |    289    |\n",
      "-------------------------------------------------------------\n",
      "|  discuss  |    750    |    69     |   1955    |   1690    |\n",
      "-------------------------------------------------------------\n",
      "| unrelated |   1630    |    131    |   2134    |   14454   |\n",
      "-------------------------------------------------------------\n",
      "Score: 6754.0 out of 11651.25\t(57.9680291814183%)\n"
     ]
    }
   ],
   "source": [
    "calcF1(\"BiLSTMBase.csv\")"
   ]
  },
  {
   "cell_type": "code",
   "execution_count": 15,
   "metadata": {},
   "outputs": [
    {
     "name": "stdout",
     "output_type": "stream",
     "text": [
      "F1 Score for BiLSTMConcat:\n",
      "-------------------------------------------------------------\n",
      "|           |   agree   | disagree  |  discuss  | unrelated |\n",
      "-------------------------------------------------------------\n",
      "|   agree   |     0     |    584    |    489    |    830    |\n",
      "-------------------------------------------------------------\n",
      "| disagree  |     0     |    169    |    156    |    372    |\n",
      "-------------------------------------------------------------\n",
      "|  discuss  |     0     |    615    |   2377    |   1472    |\n",
      "-------------------------------------------------------------\n",
      "| unrelated |     0     |   3596    |   7694    |   7059    |\n",
      "-------------------------------------------------------------\n",
      "Score: 4771.75 out of 11651.25\t(40.954833172406396%)\n"
     ]
    }
   ],
   "source": [
    "calcF1(\"BiLSTMConcat.csv\")"
   ]
  },
  {
   "cell_type": "code",
   "execution_count": 16,
   "metadata": {},
   "outputs": [
    {
     "name": "stdout",
     "output_type": "stream",
     "text": [
      "F1 Score for BiLSTMStacked:\n",
      "-------------------------------------------------------------\n",
      "|           |   agree   | disagree  |  discuss  | unrelated |\n",
      "-------------------------------------------------------------\n",
      "|   agree   |    634    |    36     |    452    |    781    |\n",
      "-------------------------------------------------------------\n",
      "| disagree  |    239    |    17     |    141    |    300    |\n",
      "-------------------------------------------------------------\n",
      "|  discuss  |    698    |    64     |   2103    |   1599    |\n",
      "-------------------------------------------------------------\n",
      "| unrelated |   1452    |    110    |   1836    |   14951   |\n",
      "-------------------------------------------------------------\n",
      "Score: 6899.25 out of 11651.25\t(59.21467653685227%)\n"
     ]
    }
   ],
   "source": [
    "calcF1(\"BiLSTMStacked.csv\")"
   ]
  },
  {
   "cell_type": "code",
   "execution_count": 17,
   "metadata": {},
   "outputs": [
    {
     "name": "stdout",
     "output_type": "stream",
     "text": [
      "F1 Score for CNNFasttext:\n",
      "-------------------------------------------------------------\n",
      "|           |   agree   | disagree  |  discuss  | unrelated |\n",
      "-------------------------------------------------------------\n",
      "|   agree   |    442    |    21     |    647    |    793    |\n",
      "-------------------------------------------------------------\n",
      "| disagree  |    157    |    17     |    177    |    346    |\n",
      "-------------------------------------------------------------\n",
      "|  discuss  |    463    |    36     |   2399    |   1566    |\n",
      "-------------------------------------------------------------\n",
      "| unrelated |   1452    |    87     |   3749    |   13061   |\n",
      "-------------------------------------------------------------\n",
      "Score: 6498.5 out of 11651.25\t(55.77513142366699%)\n"
     ]
    }
   ],
   "source": [
    "calcF1(\"CNNFasttext.csv\")"
   ]
  },
  {
   "cell_type": "code",
   "execution_count": 18,
   "metadata": {},
   "outputs": [
    {
     "name": "stdout",
     "output_type": "stream",
     "text": [
      "F1 Score for CNNFinal:\n",
      "-------------------------------------------------------------\n",
      "|           |   agree   | disagree  |  discuss  | unrelated |\n",
      "-------------------------------------------------------------\n",
      "|   agree   |    654    |    94     |    426    |    729    |\n",
      "-------------------------------------------------------------\n",
      "| disagree  |    243    |    36     |    143    |    275    |\n",
      "-------------------------------------------------------------\n",
      "|  discuss  |    775    |    175    |   2077    |   1437    |\n",
      "-------------------------------------------------------------\n",
      "| unrelated |   1822    |    421    |   2600    |   13506   |\n",
      "-------------------------------------------------------------\n",
      "Score: 6607.5 out of 11651.25\t(56.71065336337303%)\n"
     ]
    }
   ],
   "source": [
    "calcF1(\"CNNFinal.csv\")"
   ]
  },
  {
   "cell_type": "code",
   "execution_count": 19,
   "metadata": {},
   "outputs": [
    {
     "name": "stdout",
     "output_type": "stream",
     "text": [
      "F1 Score for LSTM:\n",
      "-------------------------------------------------------------\n",
      "|           |   agree   | disagree  |  discuss  | unrelated |\n",
      "-------------------------------------------------------------\n",
      "|   agree   |    355    |    44     |    967    |    537    |\n",
      "-------------------------------------------------------------\n",
      "| disagree  |    112    |    34     |    383    |    168    |\n",
      "-------------------------------------------------------------\n",
      "|  discuss  |   1618    |    40     |   2123    |    683    |\n",
      "-------------------------------------------------------------\n",
      "| unrelated |   5016    |    176    |   10566   |   2591    |\n",
      "-------------------------------------------------------------\n",
      "Score: 3950.75 out of 11651.25\t(33.90837892929943%)\n"
     ]
    }
   ],
   "source": [
    "calcF1(\"LSTM.csv\")"
   ]
  },
  {
   "cell_type": "code",
   "execution_count": 20,
   "metadata": {},
   "outputs": [
    {
     "name": "stdout",
     "output_type": "stream",
     "text": [
      "F1 Score for RoBERTa:\n",
      "-------------------------------------------------------------\n",
      "|           |   agree   | disagree  |  discuss  | unrelated |\n",
      "-------------------------------------------------------------\n",
      "|   agree   |   1384    |    57     |    440    |    22     |\n",
      "-------------------------------------------------------------\n",
      "| disagree  |    151    |    374    |    163    |     9     |\n",
      "-------------------------------------------------------------\n",
      "|  discuss  |    372    |    102    |   3915    |    75     |\n",
      "-------------------------------------------------------------\n",
      "| unrelated |    14     |    12     |    130    |   18193   |\n",
      "-------------------------------------------------------------\n",
      "Score: 10542.5 out of 11651.25\t(90.48385366376998%)\n"
     ]
    }
   ],
   "source": [
    "calcF1(\"RoBERTa.csv\")"
   ]
  },
  {
   "cell_type": "code",
   "execution_count": null,
   "metadata": {},
   "outputs": [],
   "source": []
  }
 ],
 "metadata": {
  "kernelspec": {
   "display_name": "Python 3",
   "language": "python",
   "name": "python3"
  },
  "language_info": {
   "codemirror_mode": {
    "name": "ipython",
    "version": 3
   },
   "file_extension": ".py",
   "mimetype": "text/x-python",
   "name": "python",
   "nbconvert_exporter": "python",
   "pygments_lexer": "ipython3",
   "version": "3.7.6"
  }
 },
 "nbformat": 4,
 "nbformat_minor": 4
}
