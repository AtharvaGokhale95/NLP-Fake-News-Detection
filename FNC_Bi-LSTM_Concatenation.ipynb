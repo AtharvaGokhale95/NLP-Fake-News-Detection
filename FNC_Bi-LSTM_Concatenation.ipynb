{
 "cells": [
  {
   "cell_type": "code",
   "execution_count": 1,
   "metadata": {
    "colab": {
     "base_uri": "https://localhost:8080/",
     "height": 35
    },
    "colab_type": "code",
    "id": "WZ0zv_C_e6Nu",
    "outputId": "8788e0f1-13d7-4338-d8da-2c0fc940366e"
   },
   "outputs": [
    {
     "name": "stderr",
     "output_type": "stream",
     "text": [
      "Using TensorFlow backend.\n"
     ]
    }
   ],
   "source": [
    "import numpy as np\n",
    "import pandas as pd\n",
    "import re\n",
    "import csv\n",
    "import numpy as np\n",
    "from gensim.scripts.glove2word2vec import glove2word2vec\n",
    "from gensim.models import KeyedVectors\n",
    "from sklearn.model_selection import train_test_split\n",
    "\n",
    "from keras import optimizers\n",
    "from keras.models import Sequential, Model\n",
    "from keras.layers import Input, Dense, LSTM, Embedding, Dropout, BatchNormalization, Activation, Bidirectional\n",
    "from keras.layers.normalization import BatchNormalization\n",
    "from keras.preprocessing.text import text_to_word_sequence, Tokenizer\n",
    "from keras.preprocessing.sequence import pad_sequences\n",
    "from keras.layers.merge import concatenate,subtract\n",
    "\n",
    "\n",
    "import matplotlib as mpl\n",
    "%matplotlib inline\n",
    "from matplotlib import pyplot as plt\n",
    "from keras.utils import plot_model \n",
    "from sklearn.preprocessing import LabelEncoder\n",
    "from keras.utils import np_utils\n",
    "import tensorflow as tf\n",
    "\n",
    "\n",
    "from nltk.corpus import stopwords\n",
    "\n",
    "from string import punctuation\n",
    "\n",
    "from keras import backend as K\n",
    "from keras.engine.topology import Layer\n",
    "from keras import initializers, regularizers, constraints\n",
    "from keras.layers import add\n",
    "\n",
    "\n",
    "seed = 1\n",
    "np.random.seed(seed)\n",
    "import warnings\n",
    "import sys\n",
    "if not sys.warnoptions:\n",
    "\n",
    "    warnings.simplefilter(\"ignore\")\n"
   ]
  },
  {
   "cell_type": "code",
   "execution_count": 2,
   "metadata": {},
   "outputs": [],
   "source": [
    "# Reading the FNC data\n",
    "train_head = pd.read_csv('data/train_stances.csv')\n",
    "\n",
    "train_body = pd.read_csv('data/train_bodies.csv')\n",
    "\n",
    "test_head = pd.read_csv('data/competition_test_stances.csv')\n",
    "\n",
    "test_body = pd.read_csv('data/competition_test_bodies.csv')"
   ]
  },
  {
   "cell_type": "code",
   "execution_count": 3,
   "metadata": {},
   "outputs": [],
   "source": [
    "# Converting the stances to numbers\n",
    "train_head.replace('unrelated',0,True)\n",
    "train_head.replace('agree',1,True)\n",
    "train_head.replace('disagree',2,True)\n",
    "train_head.replace('discuss',3,True)\n",
    "\n",
    "test_head.replace('unrelated',0,True)\n",
    "test_head.replace('agree',1,True)\n",
    "test_head.replace('disagree',2,True)\n",
    "test_head.replace('discuss',3,True)"
   ]
  },
  {
   "cell_type": "code",
   "execution_count": 4,
   "metadata": {},
   "outputs": [],
   "source": [
    "# Categorizing the labels in 2 classes: Unrelated and Related\n",
    "\n",
    "def labels(row):\n",
    "    \n",
    "    if row['Stance'] == 0:\n",
    "        \n",
    "      return 1\n",
    "\n",
    "    else:\n",
    "        \n",
    "      return 0\n",
    "\n",
    "train_head['Modified Labels'] = train_head.apply(labels, axis=1)"
   ]
  },
  {
   "cell_type": "code",
   "execution_count": 5,
   "metadata": {},
   "outputs": [
    {
     "data": {
      "text/html": [
       "<div>\n",
       "<style scoped>\n",
       "    .dataframe tbody tr th:only-of-type {\n",
       "        vertical-align: middle;\n",
       "    }\n",
       "\n",
       "    .dataframe tbody tr th {\n",
       "        vertical-align: top;\n",
       "    }\n",
       "\n",
       "    .dataframe thead th {\n",
       "        text-align: right;\n",
       "    }\n",
       "</style>\n",
       "<table border=\"1\" class=\"dataframe\">\n",
       "  <thead>\n",
       "    <tr style=\"text-align: right;\">\n",
       "      <th></th>\n",
       "      <th>Headline</th>\n",
       "      <th>Body ID</th>\n",
       "      <th>Stance</th>\n",
       "      <th>Modified Labels</th>\n",
       "    </tr>\n",
       "  </thead>\n",
       "  <tbody>\n",
       "    <tr>\n",
       "      <th>0</th>\n",
       "      <td>Police find mass graves with at least '15 bodi...</td>\n",
       "      <td>712</td>\n",
       "      <td>0</td>\n",
       "      <td>1</td>\n",
       "    </tr>\n",
       "    <tr>\n",
       "      <th>1</th>\n",
       "      <td>Hundreds of Palestinians flee floods in Gaza a...</td>\n",
       "      <td>158</td>\n",
       "      <td>1</td>\n",
       "      <td>0</td>\n",
       "    </tr>\n",
       "    <tr>\n",
       "      <th>2</th>\n",
       "      <td>Christian Bale passes on role of Steve Jobs, a...</td>\n",
       "      <td>137</td>\n",
       "      <td>0</td>\n",
       "      <td>1</td>\n",
       "    </tr>\n",
       "    <tr>\n",
       "      <th>3</th>\n",
       "      <td>HBO and Apple in Talks for $15/Month Apple TV ...</td>\n",
       "      <td>1034</td>\n",
       "      <td>0</td>\n",
       "      <td>1</td>\n",
       "    </tr>\n",
       "    <tr>\n",
       "      <th>4</th>\n",
       "      <td>Spider burrowed through tourist's stomach and ...</td>\n",
       "      <td>1923</td>\n",
       "      <td>2</td>\n",
       "      <td>0</td>\n",
       "    </tr>\n",
       "  </tbody>\n",
       "</table>\n",
       "</div>"
      ],
      "text/plain": [
       "                                            Headline  Body ID  Stance  \\\n",
       "0  Police find mass graves with at least '15 bodi...      712       0   \n",
       "1  Hundreds of Palestinians flee floods in Gaza a...      158       1   \n",
       "2  Christian Bale passes on role of Steve Jobs, a...      137       0   \n",
       "3  HBO and Apple in Talks for $15/Month Apple TV ...     1034       0   \n",
       "4  Spider burrowed through tourist's stomach and ...     1923       2   \n",
       "\n",
       "   Modified Labels  \n",
       "0                1  \n",
       "1                0  \n",
       "2                1  \n",
       "3                1  \n",
       "4                0  "
      ]
     },
     "execution_count": 5,
     "metadata": {},
     "output_type": "execute_result"
    }
   ],
   "source": [
    "train_head.head()"
   ]
  },
  {
   "cell_type": "code",
   "execution_count": 6,
   "metadata": {},
   "outputs": [],
   "source": [
    "info = train_head[['Modified Labels']]"
   ]
  },
  {
   "cell_type": "code",
   "execution_count": 7,
   "metadata": {},
   "outputs": [
    {
     "data": {
      "text/html": [
       "<div>\n",
       "<style scoped>\n",
       "    .dataframe tbody tr th:only-of-type {\n",
       "        vertical-align: middle;\n",
       "    }\n",
       "\n",
       "    .dataframe tbody tr th {\n",
       "        vertical-align: top;\n",
       "    }\n",
       "\n",
       "    .dataframe thead th {\n",
       "        text-align: right;\n",
       "    }\n",
       "</style>\n",
       "<table border=\"1\" class=\"dataframe\">\n",
       "  <thead>\n",
       "    <tr style=\"text-align: right;\">\n",
       "      <th></th>\n",
       "      <th>Modified Labels</th>\n",
       "    </tr>\n",
       "  </thead>\n",
       "  <tbody>\n",
       "    <tr>\n",
       "      <th>count</th>\n",
       "      <td>49972.000000</td>\n",
       "    </tr>\n",
       "    <tr>\n",
       "      <th>mean</th>\n",
       "      <td>0.731310</td>\n",
       "    </tr>\n",
       "    <tr>\n",
       "      <th>std</th>\n",
       "      <td>0.443283</td>\n",
       "    </tr>\n",
       "    <tr>\n",
       "      <th>min</th>\n",
       "      <td>0.000000</td>\n",
       "    </tr>\n",
       "    <tr>\n",
       "      <th>25%</th>\n",
       "      <td>0.000000</td>\n",
       "    </tr>\n",
       "    <tr>\n",
       "      <th>50%</th>\n",
       "      <td>1.000000</td>\n",
       "    </tr>\n",
       "    <tr>\n",
       "      <th>75%</th>\n",
       "      <td>1.000000</td>\n",
       "    </tr>\n",
       "    <tr>\n",
       "      <th>max</th>\n",
       "      <td>1.000000</td>\n",
       "    </tr>\n",
       "  </tbody>\n",
       "</table>\n",
       "</div>"
      ],
      "text/plain": [
       "       Modified Labels\n",
       "count     49972.000000\n",
       "mean          0.731310\n",
       "std           0.443283\n",
       "min           0.000000\n",
       "25%           0.000000\n",
       "50%           1.000000\n",
       "75%           1.000000\n",
       "max           1.000000"
      ]
     },
     "execution_count": 7,
     "metadata": {},
     "output_type": "execute_result"
    }
   ],
   "source": [
    "info.describe()"
   ]
  },
  {
   "cell_type": "code",
   "execution_count": 8,
   "metadata": {},
   "outputs": [
    {
     "data": {
      "text/html": [
       "<div>\n",
       "<style scoped>\n",
       "    .dataframe tbody tr th:only-of-type {\n",
       "        vertical-align: middle;\n",
       "    }\n",
       "\n",
       "    .dataframe tbody tr th {\n",
       "        vertical-align: top;\n",
       "    }\n",
       "\n",
       "    .dataframe thead th {\n",
       "        text-align: right;\n",
       "    }\n",
       "</style>\n",
       "<table border=\"1\" class=\"dataframe\">\n",
       "  <thead>\n",
       "    <tr style=\"text-align: right;\">\n",
       "      <th></th>\n",
       "      <th>Headline</th>\n",
       "      <th>Body ID</th>\n",
       "      <th>Stance</th>\n",
       "      <th>Modified Labels</th>\n",
       "      <th>articleBody</th>\n",
       "    </tr>\n",
       "  </thead>\n",
       "  <tbody>\n",
       "    <tr>\n",
       "      <th>0</th>\n",
       "      <td>Police find mass graves with at least '15 bodi...</td>\n",
       "      <td>712</td>\n",
       "      <td>0</td>\n",
       "      <td>1</td>\n",
       "      <td>Danny Boyle is directing the untitled film\\n\\n...</td>\n",
       "    </tr>\n",
       "    <tr>\n",
       "      <th>1</th>\n",
       "      <td>Hundreds of Palestinians flee floods in Gaza a...</td>\n",
       "      <td>158</td>\n",
       "      <td>1</td>\n",
       "      <td>0</td>\n",
       "      <td>Hundreds of Palestinians were evacuated from t...</td>\n",
       "    </tr>\n",
       "    <tr>\n",
       "      <th>2</th>\n",
       "      <td>Christian Bale passes on role of Steve Jobs, a...</td>\n",
       "      <td>137</td>\n",
       "      <td>0</td>\n",
       "      <td>1</td>\n",
       "      <td>30-year-old Moscow resident was hospitalized w...</td>\n",
       "    </tr>\n",
       "    <tr>\n",
       "      <th>3</th>\n",
       "      <td>HBO and Apple in Talks for $15/Month Apple TV ...</td>\n",
       "      <td>1034</td>\n",
       "      <td>0</td>\n",
       "      <td>1</td>\n",
       "      <td>(Reuters) - A Canadian soldier was shot at the...</td>\n",
       "    </tr>\n",
       "    <tr>\n",
       "      <th>4</th>\n",
       "      <td>Spider burrowed through tourist's stomach and ...</td>\n",
       "      <td>1923</td>\n",
       "      <td>2</td>\n",
       "      <td>0</td>\n",
       "      <td>Fear not arachnophobes, the story of Bunbury's...</td>\n",
       "    </tr>\n",
       "  </tbody>\n",
       "</table>\n",
       "</div>"
      ],
      "text/plain": [
       "                                            Headline  Body ID  Stance  \\\n",
       "0  Police find mass graves with at least '15 bodi...      712       0   \n",
       "1  Hundreds of Palestinians flee floods in Gaza a...      158       1   \n",
       "2  Christian Bale passes on role of Steve Jobs, a...      137       0   \n",
       "3  HBO and Apple in Talks for $15/Month Apple TV ...     1034       0   \n",
       "4  Spider burrowed through tourist's stomach and ...     1923       2   \n",
       "\n",
       "   Modified Labels                                        articleBody  \n",
       "0                1  Danny Boyle is directing the untitled film\\n\\n...  \n",
       "1                0  Hundreds of Palestinians were evacuated from t...  \n",
       "2                1  30-year-old Moscow resident was hospitalized w...  \n",
       "3                1  (Reuters) - A Canadian soldier was shot at the...  \n",
       "4                0  Fear not arachnophobes, the story of Bunbury's...  "
      ]
     },
     "execution_count": 8,
     "metadata": {},
     "output_type": "execute_result"
    }
   ],
   "source": [
    "train = train_head.join(train_body.set_index('Body ID'), on = 'Body ID')\n",
    "\n",
    "train.head()"
   ]
  },
  {
   "cell_type": "code",
   "execution_count": 9,
   "metadata": {},
   "outputs": [
    {
     "data": {
      "text/html": [
       "<div>\n",
       "<style scoped>\n",
       "    .dataframe tbody tr th:only-of-type {\n",
       "        vertical-align: middle;\n",
       "    }\n",
       "\n",
       "    .dataframe tbody tr th {\n",
       "        vertical-align: top;\n",
       "    }\n",
       "\n",
       "    .dataframe thead th {\n",
       "        text-align: right;\n",
       "    }\n",
       "</style>\n",
       "<table border=\"1\" class=\"dataframe\">\n",
       "  <thead>\n",
       "    <tr style=\"text-align: right;\">\n",
       "      <th></th>\n",
       "      <th>Headline</th>\n",
       "      <th>Body ID</th>\n",
       "      <th>Stance</th>\n",
       "      <th>articleBody</th>\n",
       "    </tr>\n",
       "  </thead>\n",
       "  <tbody>\n",
       "    <tr>\n",
       "      <th>0</th>\n",
       "      <td>Ferguson riots: Pregnant woman loses eye after...</td>\n",
       "      <td>2008</td>\n",
       "      <td>0</td>\n",
       "      <td>A RESPECTED senior French police officer inves...</td>\n",
       "    </tr>\n",
       "    <tr>\n",
       "      <th>1</th>\n",
       "      <td>Crazy Conservatives Are Sure a Gitmo Detainee ...</td>\n",
       "      <td>1550</td>\n",
       "      <td>0</td>\n",
       "      <td>Dave Morin's social networking company Path is...</td>\n",
       "    </tr>\n",
       "    <tr>\n",
       "      <th>2</th>\n",
       "      <td>A Russian Guy Says His Justin Bieber Ringtone ...</td>\n",
       "      <td>2</td>\n",
       "      <td>0</td>\n",
       "      <td>A bereaved Afghan mother took revenge on the T...</td>\n",
       "    </tr>\n",
       "    <tr>\n",
       "      <th>3</th>\n",
       "      <td>Zombie Cat: Buried Kitty Believed Dead, Meows ...</td>\n",
       "      <td>1793</td>\n",
       "      <td>0</td>\n",
       "      <td>Hewlett-Packard is officially splitting in two...</td>\n",
       "    </tr>\n",
       "    <tr>\n",
       "      <th>4</th>\n",
       "      <td>Argentina's President Adopts Boy to End Werewo...</td>\n",
       "      <td>37</td>\n",
       "      <td>0</td>\n",
       "      <td>An airline passenger headed to Dallas was remo...</td>\n",
       "    </tr>\n",
       "  </tbody>\n",
       "</table>\n",
       "</div>"
      ],
      "text/plain": [
       "                                            Headline  Body ID  Stance  \\\n",
       "0  Ferguson riots: Pregnant woman loses eye after...     2008       0   \n",
       "1  Crazy Conservatives Are Sure a Gitmo Detainee ...     1550       0   \n",
       "2  A Russian Guy Says His Justin Bieber Ringtone ...        2       0   \n",
       "3  Zombie Cat: Buried Kitty Believed Dead, Meows ...     1793       0   \n",
       "4  Argentina's President Adopts Boy to End Werewo...       37       0   \n",
       "\n",
       "                                         articleBody  \n",
       "0  A RESPECTED senior French police officer inves...  \n",
       "1  Dave Morin's social networking company Path is...  \n",
       "2  A bereaved Afghan mother took revenge on the T...  \n",
       "3  Hewlett-Packard is officially splitting in two...  \n",
       "4  An airline passenger headed to Dallas was remo...  "
      ]
     },
     "execution_count": 9,
     "metadata": {},
     "output_type": "execute_result"
    }
   ],
   "source": [
    "test = test_head.join(test_body.set_index('Body ID'), on='Body ID')\n",
    "\n",
    "test.head()"
   ]
  },
  {
   "cell_type": "code",
   "execution_count": 10,
   "metadata": {
    "colab": {},
    "colab_type": "code",
    "id": "IVfix6koe6OK"
   },
   "outputs": [],
   "source": [
    "# For training and test data\n",
    "train_head_seq = [text_to_word_sequence(head) for head in train['Headline']]\n",
    "train_body_seq = [text_to_word_sequence(body) for body in train['articleBody']]\n",
    "\n",
    "test_head_seq = [text_to_word_sequence(head) for head in test['Headline']]\n",
    "test_body_seq = [text_to_word_sequence(body) for body in test['articleBody']]"
   ]
  },
  {
   "cell_type": "code",
   "execution_count": 11,
   "metadata": {},
   "outputs": [
    {
     "name": "stdout",
     "output_type": "stream",
     "text": [
      "49972\n",
      "99944\n"
     ]
    }
   ],
   "source": [
    "# For original data: List necessary to create the training vocabulary\n",
    "# Appending all words from headings and articleBody in the train data to the list_words\n",
    "list_words = []\n",
    "\n",
    "for i in range(len(train_head_seq)):\n",
    "    \n",
    "    list_words.append(train_head_seq[i])\n",
    "\n",
    "print(len(list_words))\n",
    "\n",
    "for i in range(len(train_body_seq)):\n",
    "    \n",
    "    list_words.append(train_body_seq[i])\n",
    "    \n",
    "print(len(list_words))"
   ]
  },
  {
   "cell_type": "code",
   "execution_count": 12,
   "metadata": {
    "colab": {
     "base_uri": "https://localhost:8080/",
     "height": 35
    },
    "colab_type": "code",
    "id": "I7nR9nPPe6OO",
    "outputId": "d5dfc870-7d87-4cab-eca9-0ec79a1059a2"
   },
   "outputs": [
    {
     "name": "stdout",
     "output_type": "stream",
     "text": [
      "Size of Vocabulary: 27873\n"
     ]
    }
   ],
   "source": [
    "symbols = '!\"\\'#$%&()*+,-./:;<=>?@[\\\\]^_`{|}~\\t\\n'\n",
    "\n",
    "tokenizer = Tokenizer(num_words= 30000, filters = symbols)\n",
    "\n",
    "tokenizer.fit_on_texts([word for word in list_words])\n",
    "\n",
    "print(\"Size of Vocabulary:\", len(tokenizer.word_index))"
   ]
  },
  {
   "cell_type": "code",
   "execution_count": 13,
   "metadata": {},
   "outputs": [],
   "source": [
    "# Training Original data: Vectorization\n",
    "\n",
    "X_head_train = tokenizer.texts_to_sequences([' '.join(seq[: 15]) for seq in train_head_seq])\n",
    "\n",
    "X_head_train = pad_sequences(X_head_train, maxlen = 15, padding = 'post', truncating = 'post')\n",
    "\n",
    "\n",
    "\n",
    "X_body_train = tokenizer.texts_to_sequences([' '.join(seq[: 300]) for seq in train_body_seq])\n",
    "\n",
    "X_body_train = pad_sequences(X_body_train, maxlen = 300, padding = 'post', truncating = 'post')\n",
    "\n",
    "\n",
    "y_stance_train = train['Stance']\n",
    "\n",
    "y_classify_train = train['Modified Labels']"
   ]
  },
  {
   "cell_type": "code",
   "execution_count": 14,
   "metadata": {},
   "outputs": [],
   "source": [
    "# Test Data: Vectorization\n",
    "\n",
    "X_head_test = tokenizer.texts_to_sequences([' '.join(seq[: 15]) for seq in test_head_seq])\n",
    "\n",
    "X_head_test = pad_sequences(X_head_test, maxlen = 15, padding = 'post', truncating = 'post')\n",
    "\n",
    "X_body_test = tokenizer.texts_to_sequences([' '.join(seq[: 300]) for seq in test_body_seq])\n",
    "\n",
    "X_body_test = pad_sequences(X_body_test, maxlen = 300, padding = 'post', truncating = 'post')"
   ]
  },
  {
   "cell_type": "code",
   "execution_count": 15,
   "metadata": {},
   "outputs": [],
   "source": [
    "#Encode class values as integers\n",
    "\n",
    "encoder_train_stance = LabelEncoder()\n",
    "\n",
    "encoder_train_stance.fit(y_stance_train)                         # The actual stances: 0,1,2,3\n",
    "\n",
    "encoded_train = encoder_train_stance.transform(y_stance_train)\n",
    "\n",
    "# convert integers to dummy variables (i.e. one hot encoded)\n",
    "dummy_y_train_stance = np_utils.to_categorical(encoded_train)\n",
    "\n",
    "\n",
    "\n",
    "#Classify encoding\n",
    "\n",
    "encoder_train_label = LabelEncoder()     \n",
    "\n",
    "encoder_train_label.fit(y_classify_train)                      # The modified labels: 0,1\n",
    "\n",
    "encoded_train_label = encoder_train_label.transform(y_classify_train)\n",
    "\n",
    "# convert integers to dummy variables (i.e. one hot encoded)\n",
    "dummy_y_train_label = np_utils.to_categorical(encoded_train_label)"
   ]
  },
  {
   "cell_type": "code",
   "execution_count": 16,
   "metadata": {},
   "outputs": [],
   "source": [
    "test = test_head.join(test_body.set_index('Body ID'), on = 'Body ID')\n",
    "\n",
    "test.head()\n",
    "\n",
    "test_head_seq = [text_to_word_sequence(head) for head in test['Headline']]\n",
    "\n",
    "test_body_seq = [text_to_word_sequence(body) for body in test['articleBody']]\n",
    "\n",
    "    \n",
    "X_head_test = tokenizer.texts_to_sequences([' '.join(seq[: 50]) for seq in test_head_seq])\n",
    "\n",
    "X_head_test = pad_sequences(X_head_test, maxlen = 50, padding = 'post', truncating = 'post')\n",
    "\n",
    "X_body_test = tokenizer.texts_to_sequences([' '.join(seq[: 300]) for seq in test_head_seq])\n",
    "\n",
    "X_body_test = pad_sequences(X_body_test, maxlen = 300, padding = 'post', truncating = 'post')\n",
    "\n",
    "y_test = test['Stance']"
   ]
  },
  {
   "cell_type": "code",
   "execution_count": 17,
   "metadata": {},
   "outputs": [],
   "source": [
    "# Word embedings: Fasttext:\n",
    "\n",
    "embeddings = KeyedVectors.load_word2vec_format('data/fasttext/wiki-news-300d-1M.vec')\n",
    "\n",
    "embeddings_matrix = np.random.uniform(-0.05, 0.05, size=(len(tokenizer.word_index)+1, 300)) \n",
    "\n",
    "for word, i in tokenizer.word_index.items(): \n",
    "    \n",
    "  try:\n",
    "    \n",
    "      embeddings_vector = embeddings[word]\n",
    "        \n",
    "  except KeyError:\n",
    "    \n",
    "      embeddings_vector = None\n",
    "        \n",
    "  if embeddings_vector is not None:\n",
    "    \n",
    "      embeddings_matrix[i] = embeddings_vector\n",
    "\n",
    "del embeddings"
   ]
  },
  {
   "cell_type": "code",
   "execution_count": 18,
   "metadata": {
    "colab": {},
    "colab_type": "code",
    "id": "kgaRe5uFe6Oj"
   },
   "outputs": [
    {
     "name": "stdout",
     "output_type": "stream",
     "text": [
      "Model: \"model_1\"\n",
      "__________________________________________________________________________________________________\n",
      "Layer (type)                    Output Shape         Param #     Connected to                     \n",
      "==================================================================================================\n",
      "embedding_1_input (InputLayer)  (None, None)         0                                            \n",
      "__________________________________________________________________________________________________\n",
      "embedding_2_input (InputLayer)  (None, None)         0                                            \n",
      "__________________________________________________________________________________________________\n",
      "embedding_1 (Embedding)         (None, None, 300)    8362200     embedding_1_input[0][0]          \n",
      "__________________________________________________________________________________________________\n",
      "embedding_2 (Embedding)         (None, None, 300)    8362200     embedding_2_input[0][0]          \n",
      "__________________________________________________________________________________________________\n",
      "bidirectional_1 (Bidirectional) (None, 200)          320800      embedding_1[0][0]                \n",
      "__________________________________________________________________________________________________\n",
      "bidirectional_2 (Bidirectional) (None, 200)          320800      embedding_2[0][0]                \n",
      "__________________________________________________________________________________________________\n",
      "concatenate_1 (Concatenate)     (None, 400)          0           bidirectional_1[0][0]            \n",
      "                                                                 bidirectional_2[0][0]            \n",
      "__________________________________________________________________________________________________\n",
      "dense_1 (Dense)                 (None, 100)          40100       concatenate_1[0][0]              \n",
      "__________________________________________________________________________________________________\n",
      "dropout_1 (Dropout)             (None, 100)          0           dense_1[0][0]                    \n",
      "__________________________________________________________________________________________________\n",
      "dense_2 (Dense)                 (None, 50)           5050        dropout_1[0][0]                  \n",
      "__________________________________________________________________________________________________\n",
      "dropout_2 (Dropout)             (None, 50)           0           dense_2[0][0]                    \n",
      "__________________________________________________________________________________________________\n",
      "dense_3 (Dense)                 (None, 4)            204         dropout_2[0][0]                  \n",
      "==================================================================================================\n",
      "Total params: 17,411,354\n",
      "Trainable params: 686,954\n",
      "Non-trainable params: 16,724,400\n",
      "__________________________________________________________________________________________________\n"
     ]
    }
   ],
   "source": [
    "\n",
    "# Build a sequential model by stacking neural net units \n",
    "\n",
    "left = Sequential()\n",
    "\n",
    "left.add(Embedding(input_dim = len(tokenizer.word_index)+1,\n",
    "                          output_dim = 300,\n",
    "                          weights = [embeddings_matrix], trainable=False, mask_zero=True))\n",
    "\n",
    "left.add(Bidirectional(LSTM(100, return_sequences=False)))\n",
    "\n",
    "\n",
    "right = Sequential()\n",
    "\n",
    "right.add(Embedding(input_dim=len(tokenizer.word_index)+1,\n",
    "                          output_dim= 300,\n",
    "                          weights = [embeddings_matrix], trainable=False, mask_zero=True))\n",
    "\n",
    "right.add(Bidirectional(LSTM(100, return_sequences = False)))\n",
    "\n",
    "\n",
    "concatenated = concatenate([left.output,right.output])\n",
    "\n",
    "layer_1 = Dense(100, activation = 'relu') (concatenated)\n",
    "\n",
    "dropout_1 = Dropout(rate = 0.5)(layer_1)\n",
    "\n",
    "layer_2 =Dense(50,  activation='relu') (dropout_1)\n",
    "\n",
    "dropout_2 = Dropout(rate = 0.5)(layer_2)\n",
    "\n",
    "\n",
    "out1 = Dense(4, activation = 'softmax')(dropout_2)\n",
    "\n",
    "model = Model([left.input, right.input], out1)\n",
    "\n",
    "model.summary()"
   ]
  },
  {
   "cell_type": "code",
   "execution_count": 19,
   "metadata": {},
   "outputs": [],
   "source": [
    "model.compile(loss='categorical_crossentropy',\n",
    "              optimizer='adam',\n",
    "              metrics=['accuracy'])\n",
    "\n",
    "model.save('models/Bidirectional_LSTM_Concat.h5')"
   ]
  },
  {
   "cell_type": "code",
   "execution_count": 20,
   "metadata": {
    "colab": {
     "base_uri": "https://localhost:8080/",
     "height": 1000
    },
    "colab_type": "code",
    "id": "q2Md1gBje6Os",
    "outputId": "3481bdcd-08c0-4736-828f-6c4ba1ac3540"
   },
   "outputs": [
    {
     "name": "stdout",
     "output_type": "stream",
     "text": [
      "Train on 44974 samples, validate on 4998 samples\n",
      "Epoch 1/5\n",
      "44974/44974 [==============================] - 741s 16ms/step - loss: 0.7582 - accuracy: 0.7394 - val_loss: 0.5438 - val_accuracy: 0.7883\n",
      "Epoch 2/5\n",
      "44974/44974 [==============================] - 730s 16ms/step - loss: 0.5135 - accuracy: 0.7974 - val_loss: 0.4243 - val_accuracy: 0.8353\n",
      "Epoch 3/5\n",
      "44974/44974 [==============================] - 727s 16ms/step - loss: 0.3943 - accuracy: 0.8469 - val_loss: 0.3130 - val_accuracy: 0.8834\n",
      "Epoch 4/5\n",
      "44974/44974 [==============================] - 726s 16ms/step - loss: 0.3056 - accuracy: 0.8830 - val_loss: 0.2756 - val_accuracy: 0.8958\n",
      "Epoch 5/5\n",
      "44974/44974 [==============================] - 730s 16ms/step - loss: 0.2506 - accuracy: 0.9071 - val_loss: 0.2337 - val_accuracy: 0.9110\n"
     ]
    }
   ],
   "source": [
    "history = model.fit([X_head_train,X_body_train], y = dummy_y_train_stance, \n",
    "          batch_size = 128,\n",
    "          epochs = 5,\n",
    "          verbose = 1,\n",
    "          validation_split = 0.1)"
   ]
  },
  {
   "cell_type": "code",
   "execution_count": 21,
   "metadata": {},
   "outputs": [],
   "source": [
    "import pickle\n",
    "\n",
    "with open('FNC_BiLSTM_Concat.pickle', 'wb') as f:\n",
    "    \n",
    "    pickle.dump(history, f)"
   ]
  },
  {
   "cell_type": "code",
   "execution_count": 22,
   "metadata": {},
   "outputs": [],
   "source": [
    "with open('FNC_BiLSTM_Concat.pickle', 'rb') as f:\n",
    "    \n",
    "    history = pickle.load(f)"
   ]
  },
  {
   "cell_type": "code",
   "execution_count": 23,
   "metadata": {
    "colab": {
     "base_uri": "https://localhost:8080/",
     "height": 295
    },
    "colab_type": "code",
    "id": "69zCvhXIe6Ot",
    "outputId": "da8acdee-80dd-41d4-9b57-4b6c59c74810"
   },
   "outputs": [
    {
     "data": {
      "image/png": "[encoded data removed]",
      "text/plain": [
       "<Figure size 432x288 with 1 Axes>"
      ]
     },
     "metadata": {
      "needs_background": "light"
     },
     "output_type": "display_data"
    }
   ],
   "source": [
    "# Accuracy Plot\n",
    "\n",
    "plt.plot(history.history['accuracy'])\n",
    "\n",
    "plt.plot(history.history['val_accuracy'])\n",
    "\n",
    "plt.title('Model Accuracy')\n",
    "\n",
    "plt.ylabel('Accuracy')\n",
    "\n",
    "plt.xlabel('Epoch')\n",
    "\n",
    "plt.legend(['train', 'Validate'])\n",
    "\n",
    "plt.show()"
   ]
  },
  {
   "cell_type": "code",
   "execution_count": 24,
   "metadata": {
    "colab": {
     "base_uri": "https://localhost:8080/",
     "height": 295
    },
    "colab_type": "code",
    "id": "ZoMnoxgOe6Ov",
    "outputId": "f3ce4c14-3875-4383-c873-0ba57b6174fc"
   },
   "outputs": [
    {
     "data": {
      "image/png": "[encoded data removed]",
      "text/plain": [
       "<Figure size 432x288 with 1 Axes>"
      ]
     },
     "metadata": {
      "needs_background": "light"
     },
     "output_type": "display_data"
    }
   ],
   "source": [
    "# Loss Plot\n",
    "\n",
    "plt.plot(history.history['loss'])\n",
    "\n",
    "plt.plot(history.history['val_loss'])\n",
    "\n",
    "plt.title('Model Loss')\n",
    "\n",
    "plt.ylabel('Loss')\n",
    "\n",
    "plt.xlabel('Epoch')\n",
    "\n",
    "plt.legend(['train', 'Validate'])\n",
    "\n",
    "plt.show()"
   ]
  },
  {
   "cell_type": "code",
   "execution_count": 25,
   "metadata": {
    "colab": {},
    "colab_type": "code",
    "id": "lqIp-9qte6Ox"
   },
   "outputs": [],
   "source": [
    "# Predict the stances for the test data\n",
    "\n",
    "pred = model.predict([X_head_test, X_body_test])"
   ]
  },
  {
   "cell_type": "code",
   "execution_count": 26,
   "metadata": {},
   "outputs": [],
   "source": [
    "predicted_labels = [np.argmax(p, axis = -1) for p in pred]"
   ]
  },
  {
   "cell_type": "code",
   "execution_count": 27,
   "metadata": {},
   "outputs": [],
   "source": [
    "True_labels = y_test"
   ]
  },
  {
   "cell_type": "code",
   "execution_count": 28,
   "metadata": {
    "colab": {},
    "colab_type": "code",
    "id": "GvFraMbZe6Oz"
   },
   "outputs": [],
   "source": [
    "# Convert the stances to the text stances\n",
    "\n",
    "for i in range(len(predicted_labels)):\n",
    "\n",
    "    if predicted_labels[i] == 0: predicted_labels[i] = \"unrelated\"\n",
    "\n",
    "    if predicted_labels[i] == 1: predicted_labels[i] = \"agree\"\n",
    "\n",
    "    if predicted_labels[i] == 2: predicted_labels[i] = \"disagree\"\n",
    "\n",
    "    if predicted_labels[i] == 3: predicted_labels[i] = \"discuss\"\n",
    "\n",
    "for i in range(len(True_labels)):\n",
    "\n",
    "    if True_labels[i] == 0: True_labels[i] = \"unrelated\"\n",
    "\n",
    "    if True_labels[i] == 1: True_labels[i] = \"agree\"\n",
    "\n",
    "    if True_labels[i] == 2: True_labels[i] = \"disagree\"\n",
    "\n",
    "    if True_labels[i] == 3: True_labels[i] = \"discuss\""
   ]
  },
  {
   "cell_type": "code",
   "execution_count": 29,
   "metadata": {
    "colab": {},
    "colab_type": "code",
    "id": "yWuVDgMJe6O0"
   },
   "outputs": [],
   "source": [
    "test_df = pd.read_csv('data/competition_test_stances.csv')"
   ]
  },
  {
   "cell_type": "code",
   "execution_count": 30,
   "metadata": {
    "colab": {},
    "colab_type": "code",
    "id": "dvCTZMtde6O1"
   },
   "outputs": [],
   "source": [
    "# Replacing the original stance labels with the predicted labels\n",
    "\n",
    "pred_stance = predicted_labels\n",
    "\n",
    "bodyid = []\n",
    "\n",
    "headline = []\n",
    "\n",
    "for i in range(len(test_df.Stance)):\n",
    "\n",
    "    bodyid.append(test_df['Body ID'][i])\n",
    "\n",
    "    headline.append(test_df['Headline'][i])"
   ]
  },
  {
   "cell_type": "code",
   "execution_count": 31,
   "metadata": {},
   "outputs": [],
   "source": [
    "df_submit = pd.DataFrame( data = {'Headline': headline, 'Body ID': bodyid, \"Stance\": pred_stance})"
   ]
  },
  {
   "cell_type": "code",
   "execution_count": 32,
   "metadata": {
    "colab": {},
    "colab_type": "code",
    "id": "kssi-0Oee6O3"
   },
   "outputs": [],
   "source": [
    "df_submit.to_csv('answer_Bi-LSTM_Concat_Final.csv', index = False, encoding = 'utf-8')"
   ]
  },
  {
   "cell_type": "code",
   "execution_count": 33,
   "metadata": {
    "colab": {},
    "colab_type": "code",
    "id": "9H3uVKZs8_HK"
   },
   "outputs": [
    {
     "data": {
      "image/png": "[encoded data removed]",
      "text/plain": [
       "<IPython.core.display.Image object>"
      ]
     },
     "execution_count": 33,
     "metadata": {},
     "output_type": "execute_result"
    }
   ],
   "source": [
    "plot_model(model, to_file='model_plot.png', show_shapes = True, show_layer_names = True)"
   ]
  },
  {
   "cell_type": "code",
   "execution_count": null,
   "metadata": {},
   "outputs": [],
   "source": []
  }
 ],
 "metadata": {
  "accelerator": "GPU",
  "colab": {
   "name": "MSCI_FNC_CNN.ipynb",
   "provenance": []
  },
  "kernelspec": {
   "display_name": "Python 3",
   "language": "python",
   "name": "python3"
  },
  "language_info": {
   "codemirror_mode": {
    "name": "ipython",
    "version": 3
   },
   "file_extension": ".py",
   "mimetype": "text/x-python",
   "name": "python",
   "nbconvert_exporter": "python",
   "pygments_lexer": "ipython3",
   "version": "3.7.6"
  }
 },
 "nbformat": 4,
 "nbformat_minor": 1
}
