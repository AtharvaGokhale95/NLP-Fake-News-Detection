{
 "cells": [
  {
   "cell_type": "code",
   "execution_count": 1,
   "metadata": {
    "colab": {
     "base_uri": "https://localhost:8080/",
     "height": 35
    },
    "colab_type": "code",
    "id": "WZ0zv_C_e6Nu",
    "outputId": "8788e0f1-13d7-4338-d8da-2c0fc940366e"
   },
   "outputs": [
    {
     "name": "stderr",
     "output_type": "stream",
     "text": [
      "Using TensorFlow backend.\n"
     ]
    }
   ],
   "source": [
    "import numpy as np\n",
    "import pandas as pd\n",
    "import re\n",
    "import csv\n",
    "import numpy as np\n",
    "from gensim.scripts.glove2word2vec import glove2word2vec\n",
    "from gensim.models import KeyedVectors\n",
    "from sklearn.model_selection import train_test_split\n",
    "\n",
    "from keras import optimizers\n",
    "from keras.models import Sequential, Model\n",
    "from keras.layers import Input, Dense, LSTM, Embedding, Dropout, BatchNormalization, Activation, Bidirectional\n",
    "from keras.layers.normalization import BatchNormalization\n",
    "from keras.preprocessing.text import text_to_word_sequence, Tokenizer\n",
    "from keras.preprocessing.sequence import pad_sequences\n",
    "\n",
    "import matplotlib as mpl\n",
    "%matplotlib inline\n",
    "from matplotlib import pyplot as plt\n",
    "from keras.utils import plot_model \n",
    "from sklearn.preprocessing import LabelEncoder\n",
    "from keras.utils import np_utils\n",
    "import tensorflow as tf\n",
    "\n",
    "\n",
    "from nltk.corpus import stopwords\n",
    "\n",
    "from string import punctuation\n",
    "\n",
    "from keras import backend as K\n",
    "from keras.engine.topology import Layer\n",
    "from keras import initializers, regularizers, constraints\n",
    "\n",
    "seed = 1\n",
    "np.random.seed(seed)\n",
    "import warnings\n",
    "import sys\n",
    "if not sys.warnoptions:\n",
    "\n",
    "    warnings.simplefilter(\"ignore\")\n"
   ]
  },
  {
   "cell_type": "code",
   "execution_count": 2,
   "metadata": {},
   "outputs": [],
   "source": [
    "# We have modified the original training data in order the reduce the skewness of the data"
   ]
  },
  {
   "cell_type": "code",
   "execution_count": 3,
   "metadata": {},
   "outputs": [],
   "source": [
    "train = pd.read_csv('data/full_train_lab.csv')\n",
    "\n",
    "test = pd.read_csv('data/full_test_lab.csv')"
   ]
  },
  {
   "cell_type": "code",
   "execution_count": 4,
   "metadata": {},
   "outputs": [
    {
     "name": "stdout",
     "output_type": "stream",
     "text": [
      "(26854, 4)\n"
     ]
    }
   ],
   "source": [
    "print(train.shape)"
   ]
  },
  {
   "cell_type": "code",
   "execution_count": 5,
   "metadata": {
    "colab": {},
    "colab_type": "code",
    "id": "IVfix6koe6OK"
   },
   "outputs": [],
   "source": [
    "train_head_seq = [text_to_word_sequence(head) for head in train['Headline']]\n",
    "train_body_seq = [text_to_word_sequence(body) for body in train['articleBody']]\n",
    "\n",
    "test_head_seq = [text_to_word_sequence(head) for head in test['Headline']]\n",
    "test_body_seq = [text_to_word_sequence(body) for body in test['articleBody']]"
   ]
  },
  {
   "cell_type": "code",
   "execution_count": 6,
   "metadata": {
    "colab": {},
    "colab_type": "code",
    "id": "feYizKAae6OM"
   },
   "outputs": [],
   "source": [
    "# Appending all words from headings and articleBody in the train data to the list_words\n",
    "list_words = []"
   ]
  },
  {
   "cell_type": "code",
   "execution_count": 7,
   "metadata": {},
   "outputs": [
    {
     "name": "stdout",
     "output_type": "stream",
     "text": [
      "26854\n"
     ]
    }
   ],
   "source": [
    "for i in range(len(train_head_seq)):\n",
    "    \n",
    "    list_words.append(train_head_seq[i])\n",
    "\n",
    "print(len(list_words))"
   ]
  },
  {
   "cell_type": "code",
   "execution_count": 8,
   "metadata": {},
   "outputs": [
    {
     "name": "stdout",
     "output_type": "stream",
     "text": [
      "53708\n"
     ]
    }
   ],
   "source": [
    "for i in range(len(train_body_seq)):\n",
    "    \n",
    "    list_words.append(train_body_seq[i])\n",
    "    \n",
    "print(len(list_words))"
   ]
  },
  {
   "cell_type": "code",
   "execution_count": 9,
   "metadata": {
    "colab": {
     "base_uri": "https://localhost:8080/",
     "height": 35
    },
    "colab_type": "code",
    "id": "I7nR9nPPe6OO",
    "outputId": "d5dfc870-7d87-4cab-eca9-0ec79a1059a2"
   },
   "outputs": [
    {
     "name": "stdout",
     "output_type": "stream",
     "text": [
      "Size of Vocabulary: 27873\n"
     ]
    }
   ],
   "source": [
    "# Vectorizing the data\n",
    "symbols = '!\"\\'#$%&()*+,-./:;<=>?@[\\\\]^_`{|}~\\t\\n'\n",
    "\n",
    "tokenizer = Tokenizer(num_words= 30000, filters = symbols)\n",
    "\n",
    "tokenizer.fit_on_texts([word for word in list_words])\n",
    "\n",
    "print(\"Size of Vocabulary:\", len(tokenizer.word_index))"
   ]
  },
  {
   "cell_type": "code",
   "execution_count": 10,
   "metadata": {
    "colab": {},
    "colab_type": "code",
    "id": "jlkIrqiqe6OQ"
   },
   "outputs": [],
   "source": [
    "# Now we need to maintain the len of the list\n",
    "# Thus we extend the list by adding the words from the articleBody to the list with the words in the headings\n",
    "\n",
    "train_seq = [list(i) for i in train_head_seq]\n",
    "\n",
    "for i in range(len(train_head_seq)):\n",
    "    \n",
    "    train_seq[i].extend(train_body_seq[i]) \n",
    "    \n",
    "    \n",
    "test_seq = [list(i) for i in test_head_seq]\n",
    "\n",
    "for i in range(len(test_head_seq)):\n",
    "    \n",
    "    test_seq[i].extend(test_body_seq[i])"
   ]
  },
  {
   "cell_type": "code",
   "execution_count": 11,
   "metadata": {},
   "outputs": [
    {
     "name": "stdout",
     "output_type": "stream",
     "text": [
      "26854\n",
      "25413\n"
     ]
    }
   ],
   "source": [
    "print(len(train_seq))\n",
    "\n",
    "print(len(test_seq))"
   ]
  },
  {
   "cell_type": "code",
   "execution_count": 12,
   "metadata": {
    "colab": {},
    "colab_type": "code",
    "id": "xQDG2kPve6OS"
   },
   "outputs": [],
   "source": [
    "# Truncating all the words more than 128 words\n",
    "X_train = tokenizer.texts_to_sequences([' '.join(seq[:128]) for seq in train_seq])\n",
    "\n",
    "X_train = pad_sequences(X_train, maxlen = 128, padding = 'post', truncating = 'post')\n",
    "\n",
    "y_train = train['Stance']"
   ]
  },
  {
   "cell_type": "code",
   "execution_count": 13,
   "metadata": {},
   "outputs": [
    {
     "name": "stdout",
     "output_type": "stream",
     "text": [
      "(26854,)\n"
     ]
    }
   ],
   "source": [
    "print(y_train.shape)"
   ]
  },
  {
   "cell_type": "code",
   "execution_count": 14,
   "metadata": {
    "colab": {},
    "colab_type": "code",
    "id": "1jB8bzYke6OT"
   },
   "outputs": [],
   "source": [
    "X_test = tokenizer.texts_to_sequences([' '.join(seq[:128]) for seq in test_seq])\n",
    "\n",
    "X_test = pad_sequences(X_test, maxlen = 128, padding = 'post', truncating = 'post')\n",
    "\n",
    "y_test = test['Stance']"
   ]
  },
  {
   "cell_type": "code",
   "execution_count": 15,
   "metadata": {},
   "outputs": [
    {
     "name": "stdout",
     "output_type": "stream",
     "text": [
      "(25413,)\n"
     ]
    }
   ],
   "source": [
    "print(y_test.shape)"
   ]
  },
  {
   "cell_type": "code",
   "execution_count": 16,
   "metadata": {},
   "outputs": [],
   "source": [
    "# Encode the labels before transforming them to categorical"
   ]
  },
  {
   "cell_type": "code",
   "execution_count": 17,
   "metadata": {
    "colab": {},
    "colab_type": "code",
    "id": "1baxHiTRe6OV"
   },
   "outputs": [],
   "source": [
    "train_encode = LabelEncoder()\n",
    "\n",
    "train_encode.fit(y_train)\n",
    "\n",
    "train_encoded = train_encode.transform(y_train)\n",
    "\n",
    "y_train = np_utils.to_categorical(train_encoded)"
   ]
  },
  {
   "cell_type": "code",
   "execution_count": 18,
   "metadata": {},
   "outputs": [
    {
     "data": {
      "text/plain": [
       "array([[0., 0., 1., 0.],\n",
       "       [0., 0., 0., 1.],\n",
       "       [1., 0., 0., 0.]], dtype=float32)"
      ]
     },
     "execution_count": 18,
     "metadata": {},
     "output_type": "execute_result"
    }
   ],
   "source": [
    "y_train[0:3]"
   ]
  },
  {
   "cell_type": "code",
   "execution_count": 19,
   "metadata": {
    "colab": {},
    "colab_type": "code",
    "id": "ikFjfY4ue6OX"
   },
   "outputs": [],
   "source": [
    "seed = 42\n",
    "\n",
    "X_train, X_val, y_train, y_val = train_test_split(X_train, y_train, random_state = seed, test_size = 0.1)"
   ]
  },
  {
   "cell_type": "code",
   "execution_count": 20,
   "metadata": {
    "colab": {},
    "colab_type": "code",
    "id": "w-ow33BGe6Oa"
   },
   "outputs": [],
   "source": [
    "test_encode = LabelEncoder()\n",
    "\n",
    "test_encode.fit(y_test)\n",
    "\n",
    "test_encoded = test_encode.transform(y_test)\n",
    "\n",
    "y_test = np_utils.to_categorical(test_encoded)"
   ]
  },
  {
   "cell_type": "code",
   "execution_count": 21,
   "metadata": {
    "colab": {
     "base_uri": "https://localhost:8080/",
     "height": 86
    },
    "colab_type": "code",
    "id": "U05Nty6-e6Ob",
    "outputId": "09b78fa4-960b-4515-b970-d10c358a8323"
   },
   "outputs": [
    {
     "name": "stdout",
     "output_type": "stream",
     "text": [
      "Shape of X_train: (24168, 128)\n",
      "Shape of X_test: (25413, 128)\n",
      "Shape of y_train: (24168, 4)\n",
      "Shape of y_test: (25413, 4)\n"
     ]
    }
   ],
   "source": [
    "print(\"Shape of X_train:\",X_train.shape)\n",
    "\n",
    "print(\"Shape of X_test:\",X_test.shape)\n",
    "\n",
    "print(\"Shape of y_train:\",y_train.shape)\n",
    "\n",
    "print(\"Shape of y_test:\",y_test.shape)"
   ]
  },
  {
   "cell_type": "code",
   "execution_count": 22,
   "metadata": {
    "colab": {
     "base_uri": "https://localhost:8080/",
     "height": 72
    },
    "colab_type": "code",
    "id": "uJLqd-rRe6Od",
    "outputId": "c6eaa767-6faa-47b2-b417-4c8b5d14434c"
   },
   "outputs": [],
   "source": [
    "# Creating word embeddings using the pretrained Glove model\n",
    "\n",
    "import gensim\n",
    "\n",
    "inp = 'data/glove.twitter.27B.50d.txt'\n",
    "\n",
    "out = 'data/glove.50d.txt.word2vec'\n",
    "\n",
    "glove2word2vec(inp, out)\n",
    "\n",
    "word_embeddings = gensim.models.KeyedVectors.load_word2vec_format(out, binary = False)"
   ]
  },
  {
   "cell_type": "code",
   "execution_count": 23,
   "metadata": {
    "colab": {},
    "colab_type": "code",
    "id": "QK1xFfiMe6Oh"
   },
   "outputs": [],
   "source": [
    "# Defining the weight matrix based on the embedding \n",
    "\n",
    "weight_matrix = np.random.uniform(-0.05, 0.05, size=(len(tokenizer.word_index)+1, 50)) \n",
    "\n",
    "for word, i in tokenizer.word_index.items(): \n",
    "    \n",
    "    try:\n",
    "        word_embeddings_vector = word_embeddings[word]\n",
    "        \n",
    "    except KeyError:\n",
    "        \n",
    "        word_embeddings_vector = None\n",
    "\n",
    "    if word_embeddings_vector is not None:\n",
    "        \n",
    "        weight_matrix[i] = word_embeddings_vector\n",
    "                \n",
    "del word_embeddings"
   ]
  },
  {
   "cell_type": "code",
   "execution_count": 24,
   "metadata": {
    "colab": {},
    "colab_type": "code",
    "id": "kgaRe5uFe6Oj"
   },
   "outputs": [],
   "source": [
    "# Defining the LSTM model for training:\n",
    "\n",
    "import keras\n",
    "\n",
    "from keras.layers import Input, Dense, Embedding, Dropout, Activation, Flatten\n",
    "\n",
    "from keras.layers.convolutional import Conv1D\n",
    "\n",
    "from keras.layers.convolutional import MaxPooling1D\n",
    "\n",
    "keras.backend.clear_session()\n",
    "\n",
    "model = Sequential()\n",
    "\n",
    "model.add(Embedding(input_dim=len(tokenizer.word_index)+1, output_dim = 50, weights = [weight_matrix], trainable = True, mask_zero=True))\n",
    "\n",
    "model.add(Bidirectional(LSTM(120, return_sequences = False)))\n",
    "\n",
    "model.add(Dropout(rate = 0.3)) \n",
    "\n",
    "model.add(Dense(4, activation='softmax'))\n",
    "\n",
    "model.compile(loss = 'categorical_crossentropy',optimizer = 'adam', metrics = ['accuracy'])"
   ]
  },
  {
   "cell_type": "code",
   "execution_count": 25,
   "metadata": {
    "colab": {
     "base_uri": "https://localhost:8080/",
     "height": 1000
    },
    "colab_type": "code",
    "id": "q2Md1gBje6Os",
    "outputId": "3481bdcd-08c0-4736-828f-6c4ba1ac3540"
   },
   "outputs": [
    {
     "name": "stdout",
     "output_type": "stream",
     "text": [
      "Train on 24168 samples, validate on 2686 samples\n",
      "Epoch 1/30\n",
      "24168/24168 [==============================] - 181s 7ms/step - loss: 0.9880 - accuracy: 0.5591 - val_loss: 0.9178 - val_accuracy: 0.6147\n",
      "Epoch 2/30\n",
      "24168/24168 [==============================] - 181s 7ms/step - loss: 0.7789 - accuracy: 0.6764 - val_loss: 0.7064 - val_accuracy: 0.7130\n",
      "Epoch 3/30\n",
      "24168/24168 [==============================] - 180s 7ms/step - loss: 0.5846 - accuracy: 0.7650 - val_loss: 0.5809 - val_accuracy: 0.7651\n",
      "Epoch 4/30\n",
      "24168/24168 [==============================] - 182s 8ms/step - loss: 0.4584 - accuracy: 0.8200 - val_loss: 0.5051 - val_accuracy: 0.8016\n",
      "Epoch 5/30\n",
      "24168/24168 [==============================] - 182s 8ms/step - loss: 0.3751 - accuracy: 0.8522 - val_loss: 0.4665 - val_accuracy: 0.8168\n",
      "Epoch 6/30\n",
      "24168/24168 [==============================] - 188s 8ms/step - loss: 0.3026 - accuracy: 0.8840 - val_loss: 0.4197 - val_accuracy: 0.8380\n",
      "Epoch 7/30\n",
      "24168/24168 [==============================] - 191s 8ms/step - loss: 0.2497 - accuracy: 0.9053 - val_loss: 0.3623 - val_accuracy: 0.8593\n",
      "Epoch 8/30\n",
      "24168/24168 [==============================] - 189s 8ms/step - loss: 0.2007 - accuracy: 0.9260 - val_loss: 0.3627 - val_accuracy: 0.8716\n",
      "Epoch 9/30\n",
      "24168/24168 [==============================] - 184s 8ms/step - loss: 0.1643 - accuracy: 0.9400 - val_loss: 0.3465 - val_accuracy: 0.8757\n",
      "Epoch 10/30\n",
      "24168/24168 [==============================] - 185s 8ms/step - loss: 0.1339 - accuracy: 0.9521 - val_loss: 0.3239 - val_accuracy: 0.8905\n",
      "Epoch 11/30\n",
      "24168/24168 [==============================] - 189s 8ms/step - loss: 0.1142 - accuracy: 0.9586 - val_loss: 0.3326 - val_accuracy: 0.8931\n",
      "Epoch 12/30\n",
      "24168/24168 [==============================] - 191s 8ms/step - loss: 0.0930 - accuracy: 0.9666 - val_loss: 0.3348 - val_accuracy: 0.8987\n",
      "Epoch 13/30\n",
      "24168/24168 [==============================] - 190s 8ms/step - loss: 0.0767 - accuracy: 0.9735 - val_loss: 0.3358 - val_accuracy: 0.9069\n",
      "Epoch 14/30\n",
      "24168/24168 [==============================] - 195s 8ms/step - loss: 0.0696 - accuracy: 0.9759 - val_loss: 0.3499 - val_accuracy: 0.9021\n",
      "Epoch 15/30\n",
      "24168/24168 [==============================] - 185s 8ms/step - loss: 0.0627 - accuracy: 0.9793 - val_loss: 0.3947 - val_accuracy: 0.8976\n",
      "Epoch 16/30\n",
      "24168/24168 [==============================] - 192s 8ms/step - loss: 0.0594 - accuracy: 0.9805 - val_loss: 0.3699 - val_accuracy: 0.8920\n",
      "Epoch 17/30\n",
      "24168/24168 [==============================] - 197s 8ms/step - loss: 0.0507 - accuracy: 0.9825 - val_loss: 0.3755 - val_accuracy: 0.9066\n",
      "Epoch 18/30\n",
      "24168/24168 [==============================] - 188s 8ms/step - loss: 0.0455 - accuracy: 0.9849 - val_loss: 0.3786 - val_accuracy: 0.9073\n",
      "Epoch 19/30\n",
      "24168/24168 [==============================] - 187s 8ms/step - loss: 0.0346 - accuracy: 0.9885 - val_loss: 0.3883 - val_accuracy: 0.9147\n",
      "Epoch 20/30\n",
      "24168/24168 [==============================] - 191s 8ms/step - loss: 0.0313 - accuracy: 0.9894 - val_loss: 0.3809 - val_accuracy: 0.9136\n",
      "Epoch 21/30\n",
      "24168/24168 [==============================] - 198s 8ms/step - loss: 0.0306 - accuracy: 0.9901 - val_loss: 0.4150 - val_accuracy: 0.9077\n",
      "Epoch 22/30\n",
      "24168/24168 [==============================] - 183s 8ms/step - loss: 0.0432 - accuracy: 0.9856 - val_loss: 0.3975 - val_accuracy: 0.9043\n",
      "Epoch 23/30\n",
      "24168/24168 [==============================] - 181s 7ms/step - loss: 0.0292 - accuracy: 0.9909 - val_loss: 0.3632 - val_accuracy: 0.9121\n",
      "Epoch 24/30\n",
      "24168/24168 [==============================] - 184s 8ms/step - loss: 0.0217 - accuracy: 0.9933 - val_loss: 0.3887 - val_accuracy: 0.9103\n",
      "Epoch 25/30\n",
      "24168/24168 [==============================] - 182s 8ms/step - loss: 0.0169 - accuracy: 0.9946 - val_loss: 0.3910 - val_accuracy: 0.9196\n",
      "Epoch 26/30\n",
      "24168/24168 [==============================] - 180s 7ms/step - loss: 0.0142 - accuracy: 0.9957 - val_loss: 0.4276 - val_accuracy: 0.9166\n",
      "Epoch 27/30\n",
      "24168/24168 [==============================] - 182s 8ms/step - loss: 0.0208 - accuracy: 0.9934 - val_loss: 0.4144 - val_accuracy: 0.9140\n",
      "Epoch 28/30\n",
      "24168/24168 [==============================] - 182s 8ms/step - loss: 0.0254 - accuracy: 0.9919 - val_loss: 0.4332 - val_accuracy: 0.9140\n",
      "Epoch 29/30\n",
      "24168/24168 [==============================] - 181s 7ms/step - loss: 0.0200 - accuracy: 0.9940 - val_loss: 0.4069 - val_accuracy: 0.9155\n",
      "Epoch 30/30\n",
      "24168/24168 [==============================] - 181s 7ms/step - loss: 0.0209 - accuracy: 0.9944 - val_loss: 0.3830 - val_accuracy: 0.9196\n"
     ]
    }
   ],
   "source": [
    "history = model.fit(X_train, y_train, batch_size = 128, epochs = 30, validation_data = (X_val, y_val))"
   ]
  },
  {
   "cell_type": "code",
   "execution_count": null,
   "metadata": {},
   "outputs": [],
   "source": [
    "model.save('Bi-directional_LSTM_Base.h5')"
   ]
  },
  {
   "cell_type": "code",
   "execution_count": 26,
   "metadata": {},
   "outputs": [],
   "source": [
    "import pickle\n",
    "\n",
    "with open('FNC_Bidirectional_LSTM_Base.pickle', 'wb') as f:\n",
    "    \n",
    "    pickle.dump(history, f)\n",
    "    \n",
    "    \n",
    "with open('FNC_Bidirectional_LSTM_Base.pickle', 'rb') as f:\n",
    "    \n",
    "    history = pickle.load(f)"
   ]
  },
  {
   "cell_type": "code",
   "execution_count": 27,
   "metadata": {
    "colab": {
     "base_uri": "https://localhost:8080/",
     "height": 295
    },
    "colab_type": "code",
    "id": "69zCvhXIe6Ot",
    "outputId": "da8acdee-80dd-41d4-9b57-4b6c59c74810"
   },
   "outputs": [
    {
     "data": {
      "image/png": "[encoded data removed]",
      "text/plain": [
       "<Figure size 432x288 with 1 Axes>"
      ]
     },
     "metadata": {
      "needs_background": "light"
     },
     "output_type": "display_data"
    }
   ],
   "source": [
    "# Accuracy Plot\n",
    "\n",
    "plt.plot(history.history['accuracy'])\n",
    "\n",
    "plt.plot(history.history['val_accuracy'])\n",
    "\n",
    "plt.title('Model Accuracy')\n",
    "\n",
    "plt.ylabel('Accuracy')\n",
    "\n",
    "plt.xlabel('Epoch')\n",
    "\n",
    "plt.legend(['train', 'Validate'])\n",
    "\n",
    "plt.show()"
   ]
  },
  {
   "cell_type": "code",
   "execution_count": 28,
   "metadata": {
    "colab": {
     "base_uri": "https://localhost:8080/",
     "height": 295
    },
    "colab_type": "code",
    "id": "ZoMnoxgOe6Ov",
    "outputId": "f3ce4c14-3875-4383-c873-0ba57b6174fc"
   },
   "outputs": [
    {
     "data": {
      "image/png": "[encoded data removed]",
      "text/plain": [
       "<Figure size 432x288 with 1 Axes>"
      ]
     },
     "metadata": {
      "needs_background": "light"
     },
     "output_type": "display_data"
    }
   ],
   "source": [
    "# Loss Plot\n",
    "\n",
    "plt.plot(history.history['loss'])\n",
    "\n",
    "plt.plot(history.history['val_loss'])\n",
    "\n",
    "plt.title('Model Loss')\n",
    "\n",
    "plt.ylabel('Loss')\n",
    "\n",
    "plt.xlabel('Epoch')\n",
    "\n",
    "plt.legend(['train', 'Validate'])\n",
    "\n",
    "plt.show()"
   ]
  },
  {
   "cell_type": "code",
   "execution_count": 29,
   "metadata": {
    "colab": {},
    "colab_type": "code",
    "id": "lqIp-9qte6Ox"
   },
   "outputs": [],
   "source": [
    "# Predict the stances for the test data\n",
    "\n",
    "pred = model.predict(X_test)\n",
    "\n",
    "predicted_labels = [np.argmax(p, axis = -1) for p in pred]\n",
    "\n",
    "True_labels = [np.argmax(p, axis = -1) for p in y_test]"
   ]
  },
  {
   "cell_type": "code",
   "execution_count": 30,
   "metadata": {
    "colab": {},
    "colab_type": "code",
    "id": "GvFraMbZe6Oz"
   },
   "outputs": [],
   "source": [
    "# Convert the stances to the text stances\n",
    "\n",
    "for i in range(len(predicted_labels)):\n",
    "\n",
    "    if predicted_labels[i] == 0: predicted_labels[i] = \"agree\"\n",
    "\n",
    "    if predicted_labels[i] == 1: predicted_labels[i] = \"disagree\"\n",
    "\n",
    "    if predicted_labels[i] == 2: predicted_labels[i] = \"discuss\"\n",
    "\n",
    "    if predicted_labels[i] == 3: predicted_labels[i] = \"unrelated\"\n",
    "\n",
    "for i in range(len(True_labels)):\n",
    "\n",
    "    if True_labels[i] == 0: True_labels[i] = \"agree\"\n",
    "\n",
    "    if True_labels[i] == 1: True_labels[i] = \"disagree\"\n",
    "\n",
    "    if True_labels[i] == 2: True_labels[i] = \"dicuss\"\n",
    "\n",
    "    if True_labels[i] == 3: True_labels[i] = \"unrelated\""
   ]
  },
  {
   "cell_type": "code",
   "execution_count": 31,
   "metadata": {
    "colab": {},
    "colab_type": "code",
    "id": "yWuVDgMJe6O0"
   },
   "outputs": [],
   "source": [
    "test_df = pd.read_csv('data/competition_test_stances.csv')"
   ]
  },
  {
   "cell_type": "code",
   "execution_count": 32,
   "metadata": {
    "colab": {},
    "colab_type": "code",
    "id": "dvCTZMtde6O1"
   },
   "outputs": [],
   "source": [
    "# Replacing the original stance labels with the predicted labels\n",
    "\n",
    "pred_stance = predicted_labels\n",
    "\n",
    "bodyid = []\n",
    "\n",
    "headline = []\n",
    "\n",
    "for i in range(len(test_df.Stance)):\n",
    "\n",
    "    bodyid.append(test_df['Body ID'][i])\n",
    "\n",
    "    headline.append(test_df['Headline'][i])"
   ]
  },
  {
   "cell_type": "code",
   "execution_count": 33,
   "metadata": {},
   "outputs": [],
   "source": [
    "df_submit = pd.DataFrame( data = {'Headline': headline, 'Body ID': bodyid, \"Stance\": pred_stance})"
   ]
  },
  {
   "cell_type": "code",
   "execution_count": 34,
   "metadata": {
    "colab": {},
    "colab_type": "code",
    "id": "kssi-0Oee6O3"
   },
   "outputs": [],
   "source": [
    "df_submit.to_csv('answer_LSTM_Base_Final.csv', index = False, encoding = 'utf-8')"
   ]
  },
  {
   "cell_type": "code",
   "execution_count": 35,
   "metadata": {
    "colab": {
     "base_uri": "https://localhost:8080/",
     "height": 35
    },
    "colab_type": "code",
    "id": "3Vou49gDe6O5",
    "outputId": "ade2d531-4dc2-48ea-997a-1108d9d27476"
   },
   "outputs": [
    {
     "name": "stdout",
     "output_type": "stream",
     "text": [
      "25413/25413 [==============================] - 69s 3ms/step\n"
     ]
    }
   ],
   "source": [
    "score, acc = model.evaluate(X_test, y_test, batch_size = 128)"
   ]
  },
  {
   "cell_type": "code",
   "execution_count": 36,
   "metadata": {
    "colab": {
     "base_uri": "https://localhost:8080/",
     "height": 35
    },
    "colab_type": "code",
    "id": "YPo24j5Me6O6",
    "outputId": "ff0d9328-fca9-41c8-899f-97017fc1e6e0"
   },
   "outputs": [
    {
     "name": "stdout",
     "output_type": "stream",
     "text": [
      "Test Accuracy: 0.6757565140724182\n"
     ]
    }
   ],
   "source": [
    "print(\"Test Accuracy:\", acc)"
   ]
  },
  {
   "cell_type": "code",
   "execution_count": null,
   "metadata": {
    "colab": {},
    "colab_type": "code",
    "id": "9H3uVKZs8_HK"
   },
   "outputs": [],
   "source": []
  }
 ],
 "metadata": {
  "accelerator": "GPU",
  "colab": {
   "name": "MSCI_FNC_CNN.ipynb",
   "provenance": []
  },
  "kernelspec": {
   "display_name": "Python 3",
   "language": "python",
   "name": "python3"
  },
  "language_info": {
   "codemirror_mode": {
    "name": "ipython",
    "version": 3
   },
   "file_extension": ".py",
   "mimetype": "text/x-python",
   "name": "python",
   "nbconvert_exporter": "python",
   "pygments_lexer": "ipython3",
   "version": "3.7.6"
  }
 },
 "nbformat": 4,
 "nbformat_minor": 1
}
